{
 "cells": [
  {
   "cell_type": "markdown",
   "metadata": {},
   "source": [
    "# This jupyter notebook is for assistant maintenance purposes only."
   ]
  },
  {
   "cell_type": "code",
   "execution_count": 34,
   "metadata": {},
   "outputs": [],
   "source": [
    "# %pip install --upgrade openai"
   ]
  },
  {
   "cell_type": "code",
   "execution_count": 35,
   "metadata": {},
   "outputs": [
    {
     "data": {
      "text/plain": [
       "True"
      ]
     },
     "execution_count": 35,
     "metadata": {},
     "output_type": "execute_result"
    }
   ],
   "source": [
    "#import the necessary libraries\n",
    "from openai import OpenAI\n",
    "from dotenv import load_dotenv\n",
    "import os\n",
    "\n",
    "load_dotenv()"
   ]
  },
  {
   "cell_type": "code",
   "execution_count": 36,
   "metadata": {},
   "outputs": [],
   "source": [
    "client = OpenAI()"
   ]
  },
  {
   "cell_type": "markdown",
   "metadata": {},
   "source": [
    "# Create the assistant with file_search enabled\n",
    "\n",
    "Our first step is to create an Assistant that can do file searching regardless of where the vector store resides (Assistant or Thread)"
   ]
  },
  {
   "cell_type": "code",
   "execution_count": 42,
   "metadata": {},
   "outputs": [],
   "source": [
    "#Creating the Assistant\n",
    "\n",
    "assistant = client.beta.assistants.create(\n",
    "    model=\"gpt-4o-mini\",\n",
    "    \n",
    "    instructions=\"You are BisonGPT, a knowledgeable and supportive assistant dedicated to helping students at Howard University. You have access to a wide range of information about Howard, stored in various documents and files, which you can search to provide specific, accurate answers.\\n\\nYour main role is to assist students by answering questions, offering academic advice, and helping them navigate university processes. You can:\\n - Recommend course schedules tailored to students' academic plans and graduation requirements.\\n - Advise on graduation plans and pathways, based on program-specific requirements and deadlines.\\n - Explain university policies, including financial aid, academic advising, and admissions.\\n - Guide students on campus resources, student organizations, and events.\\n\\nWhen responding, aim to be clear, concise, and supportive. Reference the university's guidelines and the most relevant information available in your files to ensure your answers are both accurate and useful.\",\n",
    "    \n",
    "    name=\"BisonGPT\",\n",
    "    \n",
    "    tools=[\n",
    "        {\n",
    "            \"type\": \"file_search\"\n",
    "        },\n",
    "        {\n",
    "            \"type\": \"function\",\n",
    "            \"function\": {\n",
    "                \"name\": \"get_directions\",\n",
    "                \"description\": \"Get directions to a given location.\",\n",
    "                \"parameters\": {\n",
    "                    \"type\": \"object\",\n",
    "                    \"properties\": {\n",
    "                        \"address\": {\n",
    "                            \"type\": \"string\",\n",
    "                            \"description\": \"An address e.g. 7501 Muirkirk Road, Beltsville, MD\"\n",
    "                        }\n",
    "                    },\n",
    "                    \"required\": [\"address\"]\n",
    "                }\n",
    "            }\n",
    "        }\n",
    "    ],\n",
    ")"
   ]
  },
  {
   "cell_type": "markdown",
   "metadata": {},
   "source": [
    "# Or retrieve the assistant"
   ]
  },
  {
   "cell_type": "code",
   "execution_count": 9,
   "metadata": {},
   "outputs": [],
   "source": [
    "def retrieve_assistant(name):\n",
    "    assistants = client.beta.assistants.list()\n",
    "    for assistant in assistants:\n",
    "        if assistant.name == name:\n",
    "            return assistant\n",
    "        \n",
    "assistant = retrieve_assistant(\"BisonGPT\")"
   ]
  },
  {
   "cell_type": "markdown",
   "metadata": {},
   "source": [
    "# Create a vector store\n"
   ]
  },
  {
   "cell_type": "code",
   "execution_count": 6,
   "metadata": {},
   "outputs": [],
   "source": [
    "vector_store = client.beta.vector_stores.create(name=\"Howard University Data\")"
   ]
  },
  {
   "cell_type": "markdown",
   "metadata": {},
   "source": [
    "# Or Retrieve the vector store"
   ]
  },
  {
   "cell_type": "code",
   "execution_count": 38,
   "metadata": {},
   "outputs": [],
   "source": [
    "def retrieve_vector_store(name: str):\n",
    "\n",
    "    vector_stores = client.beta.vector_stores.list()\n",
    "\n",
    "    for vector_store in vector_stores:\n",
    "        if vector_store.name == name:\n",
    "            return vector_store\n",
    "\n",
    "vector_store = retrieve_vector_store(\"Howard University Data\")"
   ]
  },
  {
   "cell_type": "markdown",
   "metadata": {},
   "source": [
    "## Add all files..."
   ]
  },
  {
   "cell_type": "code",
   "execution_count": 26,
   "metadata": {},
   "outputs": [],
   "source": [
    "def get_all_files(directory_path):\n",
    "    file_paths = []\n",
    "    for root, _, files in os.walk(directory_path):\n",
    "        for file in files:\n",
    "            file_paths.append(os.path.join(root, file))\n",
    "    return file_paths\n",
    "\n",
    "def upload_files(files):\n",
    "    file_streams = [open(path, \"rb\") for path in files]\n",
    "\n",
    "    file_batch = client.beta.vector_stores.file_batches.upload_and_poll(\n",
    "        vector_store_id=vector_store.id, files=file_streams\n",
    "    )\n",
    "\n",
    "    print(file_batch.status)\n",
    "    print(file_batch.file_counts)\n",
    "\n",
    "    for file_stream in file_streams:\n",
    "        file_stream.close()\n"
   ]
  },
  {
   "cell_type": "markdown",
   "metadata": {},
   "source": [
    "## Or check if any local files are not in the vector store"
   ]
  },
  {
   "cell_type": "code",
   "execution_count": null,
   "metadata": {},
   "outputs": [
    {
     "name": "stdout",
     "output_type": "stream",
     "text": [
      "['../Data/University\\\\buildings.json']\n"
     ]
    }
   ],
   "source": [
    "files_to_add = []\n",
    "\n",
    "def get_vector_store_files():\n",
    "    files = []\n",
    "\n",
    "    response = client.beta.vector_stores.files.list(vector_store_id=vector_store.id)\n",
    "\n",
    "    for f in response.data:\n",
    "        file = client.files.retrieve(f.id)\n",
    "        files.append(file)\n",
    "\n",
    "    return files\n",
    "\n",
    "all_files = get_all_files(\"../Data/\")\n",
    "\n",
    "vector_store_files = get_vector_store_files()\n",
    "\n",
    "vector_store_names = [file.filename for file in vector_store_files]\n",
    "\n",
    "for path in all_files:\n",
    "    filename = os.path.basename(path)\n",
    "    \n",
    "    if filename not in vector_store_names:\n",
    "        files_to_add.append(path)\n",
    "\n",
    "print(files_to_add)\n",
    "\n",
    "upload_files(files_to_add)\n",
    "\n"
   ]
  },
  {
   "cell_type": "markdown",
   "metadata": {},
   "source": [
    "# Attach the vector store to the assisstant"
   ]
  },
  {
   "cell_type": "code",
   "execution_count": 45,
   "metadata": {},
   "outputs": [],
   "source": [
    "try:\n",
    "    assistant = client.beta.assistants.update(\n",
    "        assistant_id=assistant.id,\n",
    "        tool_resources={\"file_search\": {\"vector_store_ids\": [vector_store.id]}},\n",
    "    )\n",
    "except Exception as e:\n",
    "    print(f\"Failed to attach vector store to assistant: {e}\")"
   ]
  }
 ],
 "metadata": {
  "kernelspec": {
   "display_name": "venv",
   "language": "python",
   "name": "python3"
  },
  "language_info": {
   "codemirror_mode": {
    "name": "ipython",
    "version": 3
   },
   "file_extension": ".py",
   "mimetype": "text/x-python",
   "name": "python",
   "nbconvert_exporter": "python",
   "pygments_lexer": "ipython3",
   "version": "3.12.0"
  }
 },
 "nbformat": 4,
 "nbformat_minor": 2
}
